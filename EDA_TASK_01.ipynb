{
  "nbformat": 4,
  "nbformat_minor": 0,
  "metadata": {
    "colab": {
      "provenance": []
    },
    "kernelspec": {
      "name": "python3",
      "display_name": "Python 3"
    },
    "language_info": {
      "name": "python"
    }
  },
  "cells": [
    {
      "cell_type": "markdown",
      "source": [
        "AICP INTERNSHIP TASK-01\n",
        "\n"
      ],
      "metadata": {
        "id": "9OGFwNVFKmX5"
      }
    },
    {
      "cell_type": "markdown",
      "source": [
        "1. Write a Numpy program to create an array of all even integers from 30 to 70"
      ],
      "metadata": {
        "id": "SVAhmPlVe9YR"
      }
    },
    {
      "cell_type": "code",
      "source": [
        "import numpy as np\n",
        "\n",
        "# Creating an array of all even integers from 30 to 70\n",
        "even_integers = np.arange(30, 71, 2)\n",
        "\n",
        "print(\"Array of even integers from 30 to 70:\", even_integers)\n"
      ],
      "metadata": {
        "colab": {
          "base_uri": "https://localhost:8080/"
        },
        "id": "X4yrbp_fLadQ",
        "outputId": "97a3deff-858a-4016-ea79-5114a2ab7798"
      },
      "execution_count": 2,
      "outputs": [
        {
          "output_type": "stream",
          "name": "stdout",
          "text": [
            "Array of even integers from 30 to 70: [30 32 34 36 38 40 42 44 46 48 50 52 54 56 58 60 62 64 66 68 70]\n"
          ]
        }
      ]
    },
    {
      "cell_type": "markdown",
      "source": [
        "2. Write a numpy program to generate an array of 15 random numbers from a standard normal distribution"
      ],
      "metadata": {
        "id": "PgyoKZX1L8KG"
      }
    },
    {
      "cell_type": "code",
      "source": [
        "import numpy as np\n",
        "\n",
        "# Generating an array of 15 random numbers from a standard normal distribution\n",
        "random_numbers = np.random.randn(15)\n",
        "\n",
        "print(\"Array of 15 random numbers from a standard normal distribution:\")\n",
        "print(random_numbers)\n"
      ],
      "metadata": {
        "colab": {
          "base_uri": "https://localhost:8080/"
        },
        "id": "sSNjGSJML-TF",
        "outputId": "61061b87-d8bf-4a3f-ba90-41879e5dccc3"
      },
      "execution_count": 3,
      "outputs": [
        {
          "output_type": "stream",
          "name": "stdout",
          "text": [
            "Array of 15 random numbers from a standard normal distribution:\n",
            "[-0.6830748   2.08967924 -0.65293263 -1.36856841  0.47972693 -1.18235866\n",
            " -1.12774067 -1.24612618 -0.51478594 -0.68151079 -0.90766121 -1.23716519\n",
            "  0.24861126  1.67402131  0.51227131]\n"
          ]
        }
      ]
    },
    {
      "cell_type": "markdown",
      "source": [
        "3. How to compute the cross product of two matrices in Numpy?"
      ],
      "metadata": {
        "id": "ATyXVTNPMIHi"
      }
    },
    {
      "cell_type": "code",
      "source": [
        "import numpy as np\n",
        "\n",
        "# Define two matrices (2-D arrays)\n",
        "matrix1 = np.array([[1, 2, 3],\n",
        "                    [4, 5, 6]])\n",
        "\n",
        "matrix2 = np.array([[7, 8, 9],\n",
        "                    [10, 11, 12]])\n",
        "\n",
        "# Compute the cross product of the two matrices\n",
        "cross_product = np.cross(matrix1, matrix2)\n",
        "\n",
        "print(\"Cross product of the two matrices:\")\n",
        "print(cross_product)\n"
      ],
      "metadata": {
        "colab": {
          "base_uri": "https://localhost:8080/"
        },
        "id": "b90O3Q1_MSPD",
        "outputId": "86bf0a4d-e294-4a5d-c9c4-420477f241ae"
      },
      "execution_count": 4,
      "outputs": [
        {
          "output_type": "stream",
          "name": "stdout",
          "text": [
            "Cross product of the two matrices:\n",
            "[[-6 12 -6]\n",
            " [-6 12 -6]]\n"
          ]
        }
      ]
    },
    {
      "cell_type": "markdown",
      "source": [
        "4. How to compute the determinant of an array using Numpy?"
      ],
      "metadata": {
        "id": "-Jqe0QO4MdOr"
      }
    },
    {
      "cell_type": "code",
      "source": [
        "import numpy as np\n",
        "\n",
        "# Define a matrix\n",
        "matrix = np.array([[1, 2],\n",
        "                   [3, 4]])\n",
        "\n",
        "# Compute the determinant of the matrix\n",
        "determinant = np.linalg.det(matrix)\n",
        "\n",
        "print(\"Determinant of the matrix:\", determinant)\n"
      ],
      "metadata": {
        "colab": {
          "base_uri": "https://localhost:8080/"
        },
        "id": "aOoxW71LMocc",
        "outputId": "38a47072-e665-4a41-83e6-301cbbbe372f"
      },
      "execution_count": 5,
      "outputs": [
        {
          "output_type": "stream",
          "name": "stdout",
          "text": [
            "Determinant of the matrix: -2.0000000000000004\n"
          ]
        }
      ]
    },
    {
      "cell_type": "markdown",
      "source": [
        "5. How to create a 3x3x3 array with random values using Numpy?"
      ],
      "metadata": {
        "id": "8KBuqLjiMwXw"
      }
    },
    {
      "cell_type": "code",
      "source": [
        "import numpy as np\n",
        "\n",
        "# Create a 3x3x3 array with random values\n",
        "random_array = np.random.rand(3, 3, 3)\n",
        "\n",
        "print(\"3x3x3 array with random values:\")\n",
        "print(random_array)\n"
      ],
      "metadata": {
        "colab": {
          "base_uri": "https://localhost:8080/"
        },
        "id": "PQriTXScM-8f",
        "outputId": "e454aca3-682d-426b-b4f1-537f7c348fa4"
      },
      "execution_count": 6,
      "outputs": [
        {
          "output_type": "stream",
          "name": "stdout",
          "text": [
            "3x3x3 array with random values:\n",
            "[[[0.09237486 0.14705131 0.45322515]\n",
            "  [0.35936959 0.01718688 0.33734002]\n",
            "  [0.72208664 0.14867946 0.73300834]]\n",
            "\n",
            " [[0.13758356 0.38980841 0.8415631 ]\n",
            "  [0.34958795 0.14569743 0.64100694]\n",
            "  [0.99082448 0.0075379  0.21302964]]\n",
            "\n",
            " [[0.49694502 0.54984057 0.48078242]\n",
            "  [0.96439336 0.16288383 0.64647362]\n",
            "  [0.28620404 0.11340431 0.54547065]]]\n"
          ]
        }
      ]
    },
    {
      "cell_type": "markdown",
      "source": [
        "6. How to create a 5x5 array with random values and find the maximum and minimum values using Numpy?"
      ],
      "metadata": {
        "id": "yWfMGaV5NJEk"
      }
    },
    {
      "cell_type": "code",
      "source": [
        "import numpy as np\n",
        "\n",
        "# Create a 5x5 array with random values\n",
        "random_array = np.random.rand(5, 5)\n",
        "\n",
        "print(\"5x5 array with random values:\")\n",
        "print(random_array)\n",
        "\n",
        "# Find the maximum value in the array\n",
        "max_value = np.max(random_array)\n",
        "\n",
        "# Find the minimum value in the array\n",
        "min_value = np.min(random_array)\n",
        "\n",
        "print(\"Maximum value:\", max_value)\n",
        "print(\"Minimum value:\", min_value)\n"
      ],
      "metadata": {
        "colab": {
          "base_uri": "https://localhost:8080/"
        },
        "id": "Y_sz51fKXwzM",
        "outputId": "4872163c-6f25-4f36-bff3-11b2806d6d0e"
      },
      "execution_count": 7,
      "outputs": [
        {
          "output_type": "stream",
          "name": "stdout",
          "text": [
            "5x5 array with random values:\n",
            "[[0.98710623 0.06968273 0.15778943 0.46530506 0.11609365]\n",
            " [0.14945511 0.64143748 0.11843623 0.81607559 0.15299773]\n",
            " [0.00409632 0.64771173 0.1666681  0.76735521 0.07835327]\n",
            " [0.37331579 0.39967651 0.37949057 0.44044902 0.69657586]\n",
            " [0.87263167 0.70151214 0.43654928 0.27444472 0.16389036]]\n",
            "Maximum value: 0.9871062259789865\n",
            "Minimum value: 0.004096317530322358\n"
          ]
        }
      ]
    },
    {
      "cell_type": "markdown",
      "source": [
        "7. How to compute the mean , standard deviation and variance of a given array along the second axis in Numpy?"
      ],
      "metadata": {
        "id": "sePB08MsX608"
      }
    },
    {
      "cell_type": "code",
      "source": [
        "import numpy as np\n",
        "\n",
        "# Define the array\n",
        "array = np.array([[1, 2, 3],\n",
        "                  [4, 5, 6],\n",
        "                  [7, 8, 9]])\n",
        "\n",
        "# Compute the mean along the second axis (axis 1)\n",
        "mean_values = np.mean(array, axis=1)\n",
        "\n",
        "# Compute the standard deviation along the second axis (axis 1)\n",
        "std_values = np.std(array, axis=1)\n",
        "\n",
        "# Compute the variance along the second axis (axis 1)\n",
        "variance_values = np.var(array, axis=1)\n",
        "\n",
        "print(\"Mean along the second axis:\", mean_values)\n",
        "print(\"Standard deviation along the second axis:\", std_values)\n",
        "print(\"Variance along the second axis:\", variance_values)\n"
      ],
      "metadata": {
        "colab": {
          "base_uri": "https://localhost:8080/"
        },
        "id": "ZHeH5TAHYKMa",
        "outputId": "9d5f87de-64bf-40f2-feee-4dded4c18cad"
      },
      "execution_count": 8,
      "outputs": [
        {
          "output_type": "stream",
          "name": "stdout",
          "text": [
            "Mean along the second axis: [2. 5. 8.]\n",
            "Standard deviation along the second axis: [0.81649658 0.81649658 0.81649658]\n",
            "Variance along the second axis: [0.66666667 0.66666667 0.66666667]\n"
          ]
        }
      ]
    }
  ]
}